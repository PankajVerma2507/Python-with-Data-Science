{
 "cells": [
  {
   "cell_type": "code",
   "execution_count": 13,
   "metadata": {},
   "outputs": [],
   "source": [
    "import numpy as np\n",
    "x = [1,2,3,4]\n",
    "nx =np.array(x)\n"
   ]
  },
  {
   "cell_type": "code",
   "execution_count": 14,
   "metadata": {},
   "outputs": [],
   "source": [
    "y = np.array([1,2,3,4,5])"
   ]
  },
  {
   "cell_type": "code",
   "execution_count": 16,
   "metadata": {},
   "outputs": [
    {
     "name": "stdout",
     "output_type": "stream",
     "text": [
      "1\n",
      "(5,)\n",
      "5\n"
     ]
    }
   ],
   "source": [
    "print(y.ndim) # dimension count\n",
    "print(y.shape) # shape of aary\n",
    "print(y.size) # element count"
   ]
  },
  {
   "cell_type": "code",
   "execution_count": 19,
   "metadata": {},
   "outputs": [
    {
     "name": "stdout",
     "output_type": "stream",
     "text": [
      "2\n",
      "(3, 3)\n",
      "9\n",
      "[[1 2 3]\n",
      " [3 4 5]\n",
      " [5 6 7]]\n"
     ]
    }
   ],
   "source": [
    "z = np.array([[1,2,3],[3,4,5],[5,6,7]])\n",
    "print(z.ndim) # dimension count\n",
    "print(z.shape) # shape of aary\n",
    "print(z.size) # element count\n",
    "print(z)"
   ]
  },
  {
   "cell_type": "code",
   "execution_count": null,
   "metadata": {},
   "outputs": [],
   "source": [
    "a = np.arange(10,100,.1)\n",
    "#print(a)\n",
    "print(a.size)\n",
    "a2 = a.reshape((30,30))\n",
    "#print(a2)\n",
    "a3 = a.reshape((30,15,2))\n",
    "#print(a3)\n",
    "b = np.linspace(1,10,100)\n",
    "print(b)\n"
   ]
  },
  {
   "cell_type": "code",
   "execution_count": null,
   "metadata": {},
   "outputs": [],
   "source": [
    "a = np.random.randint(1,10,(3,3))\n",
    "b = np.random.randint(1,10,(3,3))\n",
    "print(a)\n",
    "print(b)\n",
    "#print(a+b)\n",
    "#print(a*b)\n",
    "#print(a>b)\n",
    "#print(a<b)\n",
    "# print(a.max())\n",
    "# print(a.mean())\n",
    "# print(a.min())\n",
    "# print(a.std())\n",
    "# print(a.sum())\n",
    "print(a.max(axis =0))  # columwise calculate\n",
    "print(a.max(axis=1))   # rowwise calculate"
   ]
  },
  {
   "cell_type": "code",
   "execution_count": 39,
   "metadata": {},
   "outputs": [
    {
     "data": {
      "text/plain": [
       "3.141592653589793"
      ]
     },
     "execution_count": 39,
     "metadata": {},
     "output_type": "execute_result"
    }
   ],
   "source": [
    "t= np.arange(-np.pi*3,np.pi,.05)\n",
    "x = np.sin(t)\n",
    "y = np.cos(t)\n",
    "#print(t)\n",
    "#print(x)\n",
    "#print(y)\n",
    "np.pi\n"
   ]
  },
  {
   "cell_type": "code",
   "execution_count": null,
   "metadata": {},
   "outputs": [],
   "source": [
    "import matplotlib.pyplot as plt\n",
    "plt.plot(t,x,'r--o')\n",
    "plt.plot(t,y,'g:x')\n",
    "plt.title(\"visulization\")\n",
    "plt.show()"
   ]
  },
  {
   "cell_type": "code",
   "execution_count": 2,
   "metadata": {},
   "outputs": [
    {
     "name": "stdout",
     "output_type": "stream",
     "text": [
      "[[25 22  3 74 12  6]\n",
      " [47 95 15 24 46 78]\n",
      " [22 86 91 34 48 30]\n",
      " [99  7 42 76 18 93]\n",
      " [39 22 41 23 79 95]\n",
      " [17 87 84  9  3 45]]\n"
     ]
    }
   ],
   "source": [
    "import numpy as np\n",
    "x = np.random.randint(1,100,(6,6))\n",
    "print(x)\n"
   ]
  },
  {
   "cell_type": "code",
   "execution_count": 3,
   "metadata": {},
   "outputs": [
    {
     "data": {
      "text/plain": [
       "array([25, 22,  3, 74, 12,  6])"
      ]
     },
     "execution_count": 3,
     "metadata": {},
     "output_type": "execute_result"
    }
   ],
   "source": [
    "x[0]"
   ]
  },
  {
   "cell_type": "code",
   "execution_count": 4,
   "metadata": {},
   "outputs": [
    {
     "data": {
      "text/plain": [
       "array([25, 47, 22, 99, 39, 17])"
      ]
     },
     "execution_count": 4,
     "metadata": {},
     "output_type": "execute_result"
    }
   ],
   "source": [
    "x[:,0] # first column"
   ]
  },
  {
   "cell_type": "code",
   "execution_count": 5,
   "metadata": {},
   "outputs": [
    {
     "data": {
      "text/plain": [
       "array([12, 46, 48, 18, 79,  3])"
      ]
     },
     "execution_count": 5,
     "metadata": {},
     "output_type": "execute_result"
    }
   ],
   "source": [
    "x[:,4]"
   ]
  },
  {
   "cell_type": "code",
   "execution_count": 14,
   "metadata": {},
   "outputs": [
    {
     "name": "stdout",
     "output_type": "stream",
     "text": [
      "[[1 2 3 4]\n",
      " [6 4 2 2]\n",
      " [2 3 4 3]\n",
      " [1 2 4 1]]\n"
     ]
    }
   ],
   "source": [
    "b = np.array ([[1,2,3,4],[6,4,2,2],[2,3,4,3],[1,2,4,1]])\n",
    "print(b)"
   ]
  },
  {
   "cell_type": "code",
   "execution_count": 15,
   "metadata": {},
   "outputs": [
    {
     "name": "stdout",
     "output_type": "stream",
     "text": [
      "[[6 4 2]\n",
      " [2 3 4]\n",
      " [1 2 4]]\n"
     ]
    }
   ],
   "source": [
    "print(b[1:,0:3])"
   ]
  },
  {
   "cell_type": "code",
   "execution_count": null,
   "metadata": {},
   "outputs": [],
   "source": []
  }
 ],
 "metadata": {
  "kernelspec": {
   "display_name": "Python 3.9.12 ('base')",
   "language": "python",
   "name": "python3"
  },
  "language_info": {
   "codemirror_mode": {
    "name": "ipython",
    "version": 3
   },
   "file_extension": ".py",
   "mimetype": "text/x-python",
   "name": "python",
   "nbconvert_exporter": "python",
   "pygments_lexer": "ipython3",
   "version": "3.9.12"
  },
  "orig_nbformat": 4,
  "vscode": {
   "interpreter": {
    "hash": "f33ac9f441634af15b65162df80b8562ce611171e909095c769cd1cdab701712"
   }
  }
 },
 "nbformat": 4,
 "nbformat_minor": 2
}
